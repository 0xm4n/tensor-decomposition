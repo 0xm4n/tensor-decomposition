{
 "cells": [
  {
   "cell_type": "code",
   "execution_count": 84,
   "metadata": {},
   "outputs": [],
   "source": [
    "import os\n",
    "import numpy as np\n",
    "import tensorly as tl\n",
    "from tensorly.decomposition import parafac\n",
    "from tensorly.decomposition import robust_pca\n",
    "import datetime\n",
    "import csv"
   ]
  },
  {
   "cell_type": "code",
   "execution_count": 85,
   "metadata": {},
   "outputs": [],
   "source": [
    "# Read all the file name and store into a list\n",
    "path = \"/Users/Ryan/Desktop/local-tensor/former\"\n",
    "files = os.listdir(path)\n",
    "files.remove('.DS_Store')"
   ]
  },
  {
   "cell_type": "code",
   "execution_count": 86,
   "metadata": {},
   "outputs": [],
   "source": [
    "# Put all the data in each file into a whole list\n",
    "data = []\n",
    "for idx, file in enumerate(files):\n",
    "    # segment / time / frequency / user_id \n",
    "    data_type = np.dtype([ ('segment', 'int32'), ('time', 'int8'), ('frequency', 'int8')])\n",
    "    file_data = np.loadtxt(path + \"/\" + file, dtype=data_type)\n",
    "    for i in file_data:\n",
    "        i = list(i)\n",
    "        # append a column user_id\n",
    "        i.append(idx)\n",
    "        data.append(i)"
   ]
  },
  {
   "cell_type": "code",
   "execution_count": 87,
   "metadata": {},
   "outputs": [],
   "source": [
    "# Get the size of the tensor\n",
    "data = np.array(data)\n",
    "num_segments = data[:,0].max()\n",
    "num_users = len(files)\n",
    "num_timeInterval = 48"
   ]
  },
  {
   "cell_type": "code",
   "execution_count": 88,
   "metadata": {},
   "outputs": [],
   "source": [
    "# Create a all zeros tensor\n",
    "tensor = np.zeros((num_users, num_segments, num_timeInterval))"
   ]
  },
  {
   "cell_type": "code",
   "execution_count": 90,
   "metadata": {},
   "outputs": [],
   "source": [
    "# Fill the tensor with existing data\n",
    "for row in data:\n",
    "    x = row[3]\n",
    "    y = row[0] - 1\n",
    "    z = row[1]\n",
    "    val = row[2]\n",
    "    tensor[x][y][z] = val"
   ]
  },
  {
   "cell_type": "code",
   "execution_count": 91,
   "metadata": {},
   "outputs": [],
   "source": [
    "# Using tensor decomposition lib\n",
    "start = datetime.datetime.now()\n",
    "\n",
    "rank = 10\n",
    "X = tl.tensor(tensor, dtype=tl.float32)\n",
    "factors, errors = parafac(X, rank=rank, return_errors=True, n_iter_max = 1000)\n",
    "\n",
    "end = datetime.datetime.now()"
   ]
  },
  {
   "cell_type": "code",
   "execution_count": 92,
   "metadata": {},
   "outputs": [],
   "source": [
    "# Get the predictic matrix from the factors\n",
    "pred_matrix = tl.kruskal_to_tensor(factors)"
   ]
  },
  {
   "cell_type": "code",
   "execution_count": 93,
   "metadata": {},
   "outputs": [],
   "source": [
    "# Calculate the pred_error and other param\n",
    "pred_err = 0\n",
    "for row in data:\n",
    "    x = row[3]\n",
    "    y = row[0] - 1\n",
    "    z = row[1]\n",
    "    pred_err += np.sqrt(np.square(X[x][y][z] - pred_matrix[x][y][z]))\n",
    "\n",
    "pred_err = pred_err / len(data)\n",
    "time = (end - start).total_seconds()\n",
    "iteration = len(errors)"
   ]
  },
  {
   "cell_type": "code",
   "execution_count": 94,
   "metadata": {},
   "outputs": [],
   "source": [
    "# store the result into result\n",
    "result = [num_users, num_segments, num_timeInterval, rank, iteration, errors[-1], time]"
   ]
  },
  {
   "cell_type": "code",
   "execution_count": 95,
   "metadata": {},
   "outputs": [],
   "source": [
    "# Experiment in different rank\n",
    "results = []\n",
    "header = [\"user\", \"segment\", \"interval\", \"rank\", \"iteration\", \"error\", \"time\"]\n",
    "\n",
    "results.append(header)\n",
    "results.append(result)"
   ]
  },
  {
   "cell_type": "code",
   "execution_count": 96,
   "metadata": {},
   "outputs": [],
   "source": [
    "# Write the experiment results into the output file\n",
    "with open('output.csv', 'a') as resultFile:\n",
    "    wr = csv.writer(resultFile, dialect='excel')\n",
    "    wr.writerows(results)"
   ]
  }
 ],
 "metadata": {
  "kernelspec": {
   "display_name": "Python 3",
   "language": "python",
   "name": "python3"
  },
  "language_info": {
   "codemirror_mode": {
    "name": "ipython",
    "version": 3
   },
   "file_extension": ".py",
   "mimetype": "text/x-python",
   "name": "python",
   "nbconvert_exporter": "python",
   "pygments_lexer": "ipython3",
   "version": "3.7.3"
  }
 },
 "nbformat": 4,
 "nbformat_minor": 2
}

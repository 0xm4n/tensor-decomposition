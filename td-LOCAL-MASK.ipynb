{
 "cells": [
  {
   "cell_type": "code",
   "execution_count": 104,
   "metadata": {},
   "outputs": [],
   "source": [
    "import os\n",
    "import numpy as np\n",
    "import tensorly as tl\n",
    "from tensorly.decomposition import parafac\n",
    "from tensorly.decomposition import robust_pca\n",
    "import datetime\n",
    "import csv\n",
    "import tensortools as tt\n",
    "from tensortools.operations import unfold as tt_unfold, khatri_rao"
   ]
  },
  {
   "cell_type": "code",
   "execution_count": 134,
   "metadata": {},
   "outputs": [],
   "source": [
    "rank = 10"
   ]
  },
  {
   "cell_type": "code",
   "execution_count": 23,
   "metadata": {},
   "outputs": [],
   "source": [
    "# Read all the file name and store into a list\n",
    "path = \"/home/master/Desktop/tensor/full\"\n",
    "files = os.listdir(path)\n",
    "\n",
    "header = [\"user\", \"segment\", \"interval\", \"rank\", \"error\", \"time\"]\n",
    "results = []\n",
    "results.append(header)\n",
    "\n",
    "file = files[0]"
   ]
  },
  {
   "cell_type": "code",
   "execution_count": 105,
   "metadata": {},
   "outputs": [],
   "source": [
    "# Put the file data into a whole list\n",
    "data_type = np.dtype([('user', 'U10'), ('time', 'int8'), ('segment', 'int64'), ('frequency', 'int8')])\n",
    "file_data = np.loadtxt(path + \"/\" + file, dtype=data_type)"
   ]
  },
  {
   "cell_type": "code",
   "execution_count": 106,
   "metadata": {},
   "outputs": [],
   "source": [
    "# Store the user set & the segment set\n",
    "user_set = set(file_data['user'])\n",
    "user_id = range(len(user_set))\n",
    "user_id_dict = { user : user_id[idx] for idx,user in enumerate(user_set) }\n",
    "id_user_dict = {v : k for k, v in user_id_dict.items()}"
   ]
  },
  {
   "cell_type": "code",
   "execution_count": 107,
   "metadata": {},
   "outputs": [],
   "source": [
    "# Add a column / user_id / into the data\n",
    "data = []\n",
    "for row in file_data:\n",
    "    row = list(row)\n",
    "    row.append(0)\n",
    "    for idx, user in enumerate(user_set):\n",
    "        if(row[0] == user):\n",
    "            row[4] = user_id_dict[user]\n",
    "    data.append(row)"
   ]
  },
  {
   "cell_type": "code",
   "execution_count": 108,
   "metadata": {},
   "outputs": [],
   "source": [
    "# Get the size of the tensor\n",
    "segment = [i[2] for i in data] \n",
    "num_segments = max(segment)\n",
    "num_users = len(user_set)\n",
    "num_timeInterval = 48"
   ]
  },
  {
   "cell_type": "code",
   "execution_count": 109,
   "metadata": {},
   "outputs": [],
   "source": [
    "# Create an all zeros tensor\n",
    "tensor = np.zeros((num_users, num_timeInterval, num_segments))\n",
    "mask = np.zeros((num_users, num_timeInterval, num_segments))"
   ]
  },
  {
   "cell_type": "code",
   "execution_count": 110,
   "metadata": {},
   "outputs": [],
   "source": [
    "# Fill the tensor with existing data\n",
    "for row in data:\n",
    "    # user id\n",
    "    x = row[4]\n",
    "    # time interval\n",
    "    y = row[1]\n",
    "    # segment id\n",
    "    z = row[2] - 1\n",
    "    # frequency\n",
    "    val = row[3]\n",
    "    tensor[x][y][z] = val"
   ]
  },
  {
   "cell_type": "code",
   "execution_count": 111,
   "metadata": {},
   "outputs": [],
   "source": [
    "# Fill the mask with existing data\n",
    "for row in data:\n",
    "    # user id\n",
    "    x = row[4]\n",
    "    # time interval\n",
    "    y = row[1]\n",
    "    # segment id\n",
    "    z = row[2] - 1\n",
    "    # frequency\n",
    "    val = row[3]\n",
    "    mask[x][y][z] = 1"
   ]
  },
  {
   "cell_type": "code",
   "execution_count": 113,
   "metadata": {},
   "outputs": [],
   "source": [
    "# Using tensor decomposition lib\n",
    "start = datetime.datetime.now()\n",
    "\n",
    "X = tl.tensor(tensor, dtype=np.int32)\n",
    "Xn = np.maximum(0, X + .1*np.random.randn(num_users,num_timeInterval, num_segments))\n",
    "M = tl.tensor(mask, dtype=np.bool)\n",
    "U = tt.mncp_hals(Xn, rank=rank, mask=M, verbose=False, max_iter =30)\n",
    "factors = U.factors.factors\n",
    "\n",
    "end = datetime.datetime.now()"
   ]
  },
  {
   "cell_type": "code",
   "execution_count": 114,
   "metadata": {},
   "outputs": [],
   "source": [
    "# Save the users factor\n",
    "users = []\n",
    "for idx,row in enumerate(factors[0]):\n",
    "    user = []\n",
    "    user.append(id_user_dict[idx])\n",
    "    for i in row:\n",
    "        user.append(i)\n",
    "    users.append(user)\n",
    "with open('users.csv', 'a', newline='') as resultFile:\n",
    "    wr = csv.writer(resultFile, dialect='excel')\n",
    "    wr.writerows(users)"
   ]
  },
  {
   "cell_type": "code",
   "execution_count": 133,
   "metadata": {
    "scrolled": true
   },
   "outputs": [],
   "source": [
    "# Save the time factor\n",
    "time = []\n",
    "for idx in range(num_timeInterval):\n",
    "    data = np.insert(factors[1][idx],0,int(idx))\n",
    "    time.append(data)\n",
    "with open('time.csv', 'a', newline='') as resultFile:\n",
    "    wr = csv.writer(resultFile, dialect='excel')\n",
    "    wr.writerows(time)"
   ]
  },
  {
   "cell_type": "code",
   "execution_count": 116,
   "metadata": {},
   "outputs": [],
   "source": [
    "# Save the segments factor\n",
    "segments = []\n",
    "for idx in range(num_timeInterval):\n",
    "    data = np.insert(factors[1][idx],0,int(idx))\n",
    "    segments.append(data)\n",
    "with open('segment.csv', 'a', newline='') as resultFile:\n",
    "    wr = csv.writer(resultFile, dialect='excel')\n",
    "    wr.writerows(segments)"
   ]
  },
  {
   "cell_type": "code",
   "execution_count": 117,
   "metadata": {},
   "outputs": [],
   "source": [
    "# Get the predictic matrix from the factors\n",
    "pred_matrix = tl.kruskal_to_tensor(factors)\n",
    "pred_matrix.take(1)\n",
    "# Calculate the pred_error and other param\n",
    "pred_err = 0\n",
    "for row in data:\n",
    "    x = row[4]\n",
    "    y = row[1]\n",
    "    z = row[2] - 1\n",
    "    pred_err += np.sqrt(np.square(Xn[x][y][z] - pred_matrix[x][y][z]))\n",
    "pred_err = pred_err / len(data)\n",
    "time = (end - start).total_seconds()\n",
    "result = [num_users, num_segments, num_timeInterval, rank, pred_err, time]\n",
    "results.append(result)"
   ]
  },
  {
   "cell_type": "code",
   "execution_count": 118,
   "metadata": {},
   "outputs": [],
   "source": [
    "# Write the experiment results into the output file\n",
    "with open('output.csv', 'a') as resultFile:\n",
    "    wr = csv.writer(resultFile, dialect='excel')\n",
    "    wr.writerows(results)"
   ]
  },
  {
   "cell_type": "code",
   "execution_count": null,
   "metadata": {},
   "outputs": [],
   "source": []
  }
 ],
 "metadata": {
  "kernelspec": {
   "display_name": "Python 3",
   "language": "python",
   "name": "python3"
  },
  "language_info": {
   "codemirror_mode": {
    "name": "ipython",
    "version": 3
   },
   "file_extension": ".py",
   "mimetype": "text/x-python",
   "name": "python",
   "nbconvert_exporter": "python",
   "pygments_lexer": "ipython3",
   "version": "3.7.3"
  }
 },
 "nbformat": 4,
 "nbformat_minor": 2
}

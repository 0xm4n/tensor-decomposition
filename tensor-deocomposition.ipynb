{
 "cells": [
  {
   "cell_type": "code",
   "execution_count": 90,
   "metadata": {},
   "outputs": [],
   "source": [
    "import os\n",
    "import numpy as np\n",
    "import tensorly as tl\n",
    "from tensorly.decomposition import parafac\n",
    "import datetime\n",
    "import csv"
   ]
  },
  {
   "cell_type": "code",
   "execution_count": 91,
   "metadata": {},
   "outputs": [],
   "source": [
    "# Get all the behaviour file name in the folder and store into a list\n",
    "path = \"/Users/Ryan/Desktop/tensorly/data\"\n",
    "files = os.listdir(path)\n",
    "files.remove('.DS_Store')"
   ]
  },
  {
   "cell_type": "code",
   "execution_count": 92,
   "metadata": {},
   "outputs": [],
   "source": [
    "# Tensor decomposition \n",
    "\n",
    "def tensor_decomposition(t, rank, files, n):\n",
    "    # Choose n users to do the tensor decomposition\n",
    "    files = files[0:n]\n",
    "    # Find the biggest segment ID in all users behaviour\n",
    "    biggest_segment_id_arr = []\n",
    "    users = []\n",
    "    \n",
    "    # Read all users appearence behaviour from the file in test folder\n",
    "    for file in files:\n",
    "        a = np.loadtxt(path + \"/\" + file,'int32')\n",
    "        users.append(a)\n",
    "        biggest_segment = a.max()\n",
    "        biggest_segment_id_arr.append(biggest_segment)\n",
    "    \n",
    "    # Generate a new tensor of given shape with zeros.\n",
    "    segment_count = max(biggest_segment_id_arr)\n",
    "    user_count = len(users)\n",
    "    time_interval = 48\n",
    "\n",
    "    t = np.zeros((user_count, segment_count, time_interval))\n",
    "    \n",
    "    # Put the user behaviour value into the tensor\n",
    "    for idx, user in enumerate(users):\n",
    "        for behaviour in user:\n",
    "            row = behaviour[0]-1\n",
    "            col = behaviour[1]\n",
    "            val = behaviour[2]\n",
    "            t[idx][row][col] = val\n",
    "    \n",
    "    start = datetime.datetime.now()\n",
    "    X = tl.tensor(t, dtype=tl.float32)\n",
    "    factors, errors = parafac(t, rank=rank, return_errors=True, n_iter_max = 200)\n",
    "    end = datetime.datetime.now()\n",
    "    time = (end - start).total_seconds()\n",
    "    iteration = len(errors)\n",
    "    result = [user_count, segment_count, time_interval, rank, iteration, errors[-1], time]\n",
    "    return result"
   ]
  },
  {
   "cell_type": "code",
   "execution_count": 95,
   "metadata": {},
   "outputs": [],
   "source": [
    "# Experiment in different rank\n",
    "results = [[\"user\", \"segment\", \"interval\", \"rank\", \"iteration\", \"error\", \"time\"]]\n",
    "user_number = [5, 10]\n",
    "ranks = [2, 5]\n",
    "for n in user_number:\n",
    "    for rank in ranks:\n",
    "        result = tensor_decomposition(t, rank, files, n)\n",
    "        results.append(result)"
   ]
  },
  {
   "cell_type": "code",
   "execution_count": 96,
   "metadata": {},
   "outputs": [],
   "source": [
    "# Write the experiment results into the output file\n",
    "with open('output.csv', 'w') as resultFile:\n",
    "    wr = csv.writer(resultFile, dialect='excel')\n",
    "    wr.writerows(results)"
   ]
  }
 ],
 "metadata": {
  "kernelspec": {
   "display_name": "Python 3",
   "language": "python",
   "name": "python3"
  },
  "language_info": {
   "codemirror_mode": {
    "name": "ipython",
    "version": 3
   },
   "file_extension": ".py",
   "mimetype": "text/x-python",
   "name": "python",
   "nbconvert_exporter": "python",
   "pygments_lexer": "ipython3",
   "version": "3.7.3"
  }
 },
 "nbformat": 4,
 "nbformat_minor": 2
}

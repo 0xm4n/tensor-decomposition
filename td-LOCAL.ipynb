{
 "cells": [
  {
   "cell_type": "code",
   "execution_count": 1,
   "metadata": {},
   "outputs": [
    {
     "name": "stderr",
     "output_type": "stream",
     "text": [
      "Using numpy backend.\n"
     ]
    }
   ],
   "source": [
    "import os\n",
    "import numpy as np\n",
    "import tensorly as tl\n",
    "from tensorly.decomposition import parafac\n",
    "import datetime\n",
    "import csv"
   ]
  },
  {
   "cell_type": "code",
   "execution_count": 22,
   "metadata": {},
   "outputs": [],
   "source": [
    "def tensor_decomposition(file):\n",
    "    # Put the file data into a whole list\n",
    "    data_type = np.dtype([('user', 'U10'), ('time', 'int8'), ('segment', 'int32'), ('frequency', 'int8')])\n",
    "    file_data = np.loadtxt(path + \"/\" + file, dtype=data_type)\n",
    "    \n",
    "    # Store the user set & the segment set\n",
    "    user_set = set(file_data['user'])\n",
    "    segment_set = set(file_data['segment'])\n",
    "    \n",
    "    # Add two column / user_id / segment_id / into the data\n",
    "    data = []\n",
    "    for row in file_data:\n",
    "        row = list(row)\n",
    "        row.append(0)\n",
    "        row.append(0)\n",
    "        for idx, user in enumerate(user_set):\n",
    "            if(row[0] == user):\n",
    "                row[4] = idx\n",
    "        for idx, segment in enumerate(segment_set):\n",
    "            if(row[2] == segment):\n",
    "                row[5] = idx\n",
    "        data.append(row)\n",
    "    # Now data looks like / user / time / segment / frequency / user_id / segment_id / \n",
    "\n",
    "    # Get the size of the tensor\n",
    "    num_users = len(user_set)\n",
    "    num_segments = len(segment_set)\n",
    "    num_time_interval = 48\n",
    "\n",
    "    # Create an all zeros tensor\n",
    "    tensor = np.zeros((num_users, num_time_interval, num_segments))\n",
    "    \n",
    "    # Fill the tensor with existing data\n",
    "    for row in data:\n",
    "        # user id\n",
    "        x = row[4]\n",
    "        # time interval\n",
    "        y = row[1]\n",
    "        # segment id\n",
    "        z = row[5] - 1\n",
    "        # frequency\n",
    "        val = row[3]\n",
    "        tensor[x][y][z] = val\n",
    "\n",
    "    # Set the rank of the tensor decomposition\n",
    "    rank = len(user_set)\n",
    "    if(rank >= 10):\n",
    "        rank = 10\n",
    "    \n",
    "    # Using tensor decomposition lib\n",
    "    start = datetime.datetime.now()\n",
    "    X = tl.tensor(tensor, dtype=tl.float32)\n",
    "    factors, errors = parafac(X, rank=rank, n_iter_max = 1000, return_errors=True)\n",
    "    end = datetime.datetime.now()\n",
    "\n",
    "    # Get the predictic matrix from the factors\n",
    "    pred_matrix = tl.kruskal_to_tensor(factors)\n",
    "    \n",
    "    # Calculate the pred_error and other param\n",
    "    pred_err = 0\n",
    "    for row in data:\n",
    "        x = row[4]\n",
    "        y = row[1]\n",
    "        z = row[5] - 1\n",
    "        val = row[3]\n",
    "        pred_err += np.sqrt(np.square(tensor[x][y][z] - pred_matrix[x][y][z]))\n",
    "    pred_err = pred_err / len(data)\n",
    "    time = (end - start).total_seconds()\n",
    "    iteration = len(errors)\n",
    "    \n",
    "    # Store the result into result\n",
    "    result = [num_users, num_segments, num_time_interval, rank, iteration, pred_err, time]\n",
    "\n",
    "    return result"
   ]
  },
  {
   "cell_type": "code",
   "execution_count": 24,
   "metadata": {},
   "outputs": [],
   "source": [
    "# Read all the file name and store into a list\n",
    "path = \"/Users/Ryan/Desktop/local-tensor/test\"\n",
    "files = os.listdir(path)\n",
    "files.remove('.DS_Store')\n",
    "\n",
    "header = [\"user\", \"segment\", \"interval\", \"rank\", \"iteration\", \"error\", \"time\"]\n",
    "results = []\n",
    "results.append(header)\n",
    "\n",
    "for file in files:\n",
    "    result = tensor_decomposition(file)\n",
    "    results.append(result)"
   ]
  },
  {
   "cell_type": "code",
   "execution_count": 25,
   "metadata": {},
   "outputs": [],
   "source": [
    "# Write the experiment results into the output file\n",
    "with open('output.csv', 'a') as resultFile:\n",
    "    wr = csv.writer(resultFile, dialect='excel')\n",
    "    wr.writerows(results)"
   ]
  }
 ],
 "metadata": {
  "kernelspec": {
   "display_name": "Python 3",
   "language": "python",
   "name": "python3"
  },
  "language_info": {
   "codemirror_mode": {
    "name": "ipython",
    "version": 3
   },
   "file_extension": ".py",
   "mimetype": "text/x-python",
   "name": "python",
   "nbconvert_exporter": "python",
   "pygments_lexer": "ipython3",
   "version": "3.7.3"
  }
 },
 "nbformat": 4,
 "nbformat_minor": 2
}
